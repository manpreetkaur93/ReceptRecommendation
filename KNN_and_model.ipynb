{
 "cells": [
  {
   "cell_type": "code",
   "execution_count": 1,
   "id": "d2004948-3bdb-4ba8-a962-5129f4e63439",
   "metadata": {},
   "outputs": [],
   "source": [
    "import pandas as pd\n",
    "from sklearn.feature_extraction.text import TfidfVectorizer\n",
    "from sklearn.metrics.pairwise import cosine_similarity\n",
    "import joblib\n",
    "import os\n"
   ]
  },
  {
   "cell_type": "code",
   "execution_count": 2,
   "id": "a47612c3-c555-4866-bd2d-f88709237d64",
   "metadata": {},
   "outputs": [],
   "source": [
    "# Kontrollera att filen finns i samma mapp som din notebook\n",
    "import os\n",
    "assert os.path.exists(\"recipes_with_ingredients_and_tags.csv\"), \"CSV-filen saknas! Ladda upp den till projektmappen.\"\n"
   ]
  },
  {
   "cell_type": "code",
   "execution_count": 3,
   "id": "fdd19d9a-faad-40e3-b56e-93a5fdde768b",
   "metadata": {
    "scrolled": true
   },
   "outputs": [
    {
     "name": "stdout",
     "output_type": "stream",
     "text": [
      "Index(['name', 'Unnamed: 0', 'country', 'description', 'id_', 'keywords',\n",
      "       'is_shoppable', 'language', 'slug', 'video_url', 'is_licensed_video',\n",
      "       'is_community', 'thumbnail_url', 'inspired_by', 'linked_recipes',\n",
      "       'cook_time', 'prep_time', 'total_time', 'ratings_negative',\n",
      "       'ratings_positive', 'score', 'protein', 'fat', 'calories', 'sugar',\n",
      "       'carbohydrates', 'fiber', 'ingredients', 'tag_name',\n",
      "       'has_instructions'],\n",
      "      dtype='object')\n",
      "                                         name  Unnamed: 0 country  \\\n",
      "0  1-Day Noodles (Taiwanese Beef Noodle Soup)        1936      US   \n",
      "1                         1-Hour Banana Bread        3885      US   \n",
      "2               1-Hour Buffalo  Chicken Wings        1852      US   \n",
      "3             1-Hour Noodles (Zha Jiang Mian)        1736      US   \n",
      "4                            1-Minute Noodles        1536      US   \n",
      "\n",
      "                                         description   id_ keywords  \\\n",
      "0                                                NaN  5464      NaN   \n",
      "1                                                NaN  7261      NaN   \n",
      "2  Think of this as your classic go-to recipe the...  7069      NaN   \n",
      "3                                                NaN  5463      NaN   \n",
      "4  A quick and easy cold noodle dish for even the...  5462      NaN   \n",
      "\n",
      "   is_shoppable language                                      slug  \\\n",
      "0          True      eng  1-day-noodles-taiwanese-beef-noodle-soup   \n",
      "1          True      eng                       1-hour-banana-bread   \n",
      "2          True      eng              1-hour-buffalo-chicken-wings   \n",
      "3          True      eng             1-hour-noodles-zha-jiang-mian   \n",
      "4          True      eng                          1-minute-noodles   \n",
      "\n",
      "                                           video_url  ...  score  protein  \\\n",
      "0  https://vid.tasty.co/output/140619/hls24_15645...  ...   92.0      NaN   \n",
      "1                                                NaN  ...    NaN      4.0   \n",
      "2  https://vid.tasty.co/output/190657/hls24_16106...  ...   89.0      NaN   \n",
      "3  https://vid.tasty.co/output/140619/landscape_4...  ...   93.0     44.0   \n",
      "4  https://vid.tasty.co/output/140619/landscape_4...  ...   91.0     12.0   \n",
      "\n",
      "    fat calories sugar  carbohydrates  fiber  \\\n",
      "0   NaN      NaN   NaN            NaN    NaN   \n",
      "1  16.0    302.0  15.0           35.0    1.0   \n",
      "2   NaN      NaN   NaN            NaN    NaN   \n",
      "3  69.0   1440.0  10.0          161.0    8.0   \n",
      "4  38.0    675.0   4.0           71.0    3.0   \n",
      "\n",
      "                                         ingredients  \\\n",
      "0  bone-in chuck beef short ribs, beef shin bones...   \n",
      "1  unsalted butter, caster sugar, self-raising fl...   \n",
      "2  nonstick cooking spray, chicken wings, kosher ...   \n",
      "3  vegetable oil, garlic, fresh ginger, shallot, ...   \n",
      "4  chinese black vinegar, high grade sesame oil, ...   \n",
      "\n",
      "                                            tag_name  has_instructions  \n",
      "0  Dairy-Free, Taiwanese, Lunar New Year, Big Bat...              True  \n",
      "1             Oven, Easy, Desserts, Indulgent Sweets              True  \n",
      "2  Under 1 Hour, Game Day, Oven, Mixing Bowl, Bak...              True  \n",
      "3  Dairy-Free, High-Fiber, High-Protein, Chinese,...              True  \n",
      "4  Vegetarian, Vegan, Dairy-Free, Low-Sugar, Thai...              True  \n",
      "\n",
      "[5 rows x 30 columns]\n"
     ]
    }
   ],
   "source": [
    "#LÄser in data\n",
    "df = pd.read_csv(\"recipes_with_ingredients_and_tags.csv\")\n",
    "print(df.columns)\n",
    "print(df.head())\n"
   ]
  },
  {
   "cell_type": "code",
   "execution_count": 4,
   "id": "cc03a959-4461-4b42-a2a9-e2028170d3e4",
   "metadata": {},
   "outputs": [
    {
     "name": "stdout",
     "output_type": "stream",
     "text": [
      "                                    name  \\\n",
      "2083               General Tso’s Chicken   \n",
      "2679                    Kung Pao Chicken   \n",
      "3240  One-Pot Chicken Teriyaki With Rice   \n",
      "3579     Pork Red Na (Noodles And Gravy)   \n",
      "1798                 Easy Orange Chicken   \n",
      "\n",
      "                                            ingredients  \\\n",
      "2083  vegetable oil, rice wine, soy sauce, boneless,...   \n",
      "2679  chicken breast, sesame oil, zucchini, red pepp...   \n",
      "3240  olive oil, chicken breasts, salt, pepper, garl...   \n",
      "3579  pork shoulder, rice noodle, dark soy sauce, ra...   \n",
      "1798  boneless, skinless chicken breasts, soy sauce,...   \n",
      "\n",
      "                                               tag_name  \n",
      "2083  Saute Pan, Spider, Spatula, Chef's Knife, Cutt...  \n",
      "2679  Wooden Spoon, Pyrex, Tongs, Measuring Spoons, ...  \n",
      "3240  Dairy-Free, High-Protein, Kid-Friendly, Weekni...  \n",
      "3579   Dairy-Free, Weeknight, Dinner, Stove Top, Fusion  \n",
      "1798  Oh So Rosé, Saute Pan, Tongs, Cutting Board, O...  \n"
     ]
    }
   ],
   "source": [
    "# recipes_knn.ipynb\n",
    "import pandas as pd\n",
    "from sklearn.feature_extraction.text import TfidfVectorizer\n",
    "from sklearn.neighbors import NearestNeighbors\n",
    "import joblib\n",
    "import re\n",
    "\n",
    "# 1. Load data\n",
    "df = pd.read_csv(\"recipes_with_ingredients_and_tags.csv\")\n",
    "# 2. Preprocess text\n",
    "def preprocess(text):\n",
    "    # Convert to string and handle NaN\n",
    "    text = str(text) if pd.notnull(text) else \"\"\n",
    "    # Convert to lowercase and remove special characters\n",
    "    text = text.lower()\n",
    "    text = re.sub(r'[^a-zA-Z0-9\\s]', '', text)\n",
    "    return text\n",
    "\n",
    "df['processed'] = df['ingredients'].apply(preprocess) + ' ' + df['tag_name'].apply(preprocess)\n",
    "\n",
    "# 3. Create TF-IDF matrix\n",
    "tfidf = TfidfVectorizer(stop_words='english', max_features=5000)\n",
    "tfidf_matrix = tfidf.fit_transform(df['processed'])\n",
    "\n",
    "# 4. Train KNN model\n",
    "knn = NearestNeighbors(n_neighbors=5, metric='cosine')\n",
    "knn.fit(tfidf_matrix)\n",
    "\n",
    "# 5. Recommendation function\n",
    "def get_knn_recommendations(query, top_n=5):\n",
    "    # Validate English input\n",
    "    if re.search(r'[^a-zA-Z0-9, ]', query):\n",
    "        raise ValueError(\"Please use English ingredient names only\")\n",
    "    \n",
    "    processed_query = preprocess(query)\n",
    "    query_vec = tfidf.transform([processed_query])\n",
    "    distances, indices = knn.kneighbors(query_vec, n_neighbors=top_n)\n",
    "    \n",
    "    return df.iloc[indices[0]][['name', 'ingredients', 'tag_name']]\n",
    "\n",
    "# Example usage with English ingredients\n",
    "test_query = \"chicken, rice, soy sauce\"\n",
    "print(get_knn_recommendations(test_query))\n"
   ]
  },
  {
   "cell_type": "code",
   "execution_count": 5,
   "id": "192d17b3-024e-4498-9a8e-c30ed78cf56e",
   "metadata": {},
   "outputs": [],
   "source": [
    "#Definiera förbearbetningsfunktion\n",
    "def preprocess_text(text):\n",
    "    if pd.isnull(text):\n",
    "        return \"\"\n",
    "    return ' '.join(str(text).lower().replace(',', ' ').split())\n"
   ]
  },
  {
   "cell_type": "code",
   "execution_count": 6,
   "id": "04898f8b-dfde-463a-8fcc-fffa5e5cd315",
   "metadata": {},
   "outputs": [],
   "source": [
    "#Skapa en ny kolumn som kombinerar ingredienser och taggar\n",
    "df['processed'] = df['ingredients'].apply(preprocess_text) + ' ' + df['tag_name'].apply(preprocess_text)\n"
   ]
  },
  {
   "cell_type": "code",
   "execution_count": 7,
   "id": "7dfda44b-5c7c-460c-907b-f3e997546764",
   "metadata": {},
   "outputs": [
    {
     "name": "stdout",
     "output_type": "stream",
     "text": [
      "✅ Modeller sparade!\n"
     ]
    }
   ],
   "source": [
    "#Träna och spara TF-IDF-modellen\n",
    "tfidf = TfidfVectorizer(stop_words='english', max_features=5000)\n",
    "tfidf_matrix = tfidf.fit_transform(df['processed'])\n",
    "\n",
    "os.makedirs(\"models\", exist_ok=True)\n",
    "#joblib.dump(tfidf, \"models/tfidf_model.pkl\")\n",
    "joblib.dump(tfidf_matrix, \"models/tfidf_matrix.pkl\")\n",
    "\n",
    "# Efter att ha skapat tfidf_matrix\n",
    "knn = NearestNeighbors(n_neighbors=10, metric='cosine')\n",
    "knn.fit(tfidf_matrix)\n",
    "\n",
    "# Spara både TF-IDF och KNN\n",
    "joblib.dump(tfidf, \"models/tfidf_model.pkl\")\n",
    "joblib.dump(knn, \"models/knn_model.pkl\")\n",
    "\n",
    "print(\"✅ Modeller sparade!\")\n"
   ]
  },
  {
   "cell_type": "code",
   "execution_count": 8,
   "id": "fc93e5b2-b490-4abe-a97b-530b059e7ac0",
   "metadata": {},
   "outputs": [],
   "source": [
    "#Definiera rekommendationsfunktion\n",
    "def get_recommendations(user_input, top_n=5):\n",
    "    processed_input = preprocess_text(user_input)\n",
    "    input_vec = tfidf.transform([processed_input])\n",
    "    sim_scores = cosine_similarity(input_vec, tfidf_matrix).flatten()\n",
    "    top_indices = sim_scores.argsort()[-top_n:][::-1]\n",
    "    results = df.iloc[top_indices][['name', 'ingredients', 'description']].fillna(\"\")\n",
    "    return results\n"
   ]
  },
  {
   "cell_type": "code",
   "execution_count": 9,
   "id": "29e5fa39-4780-44ae-a030-cd67086a42e8",
   "metadata": {
    "scrolled": true
   },
   "outputs": [
    {
     "name": "stdout",
     "output_type": "stream",
     "text": [
      "\n",
      "Testar med: olive oil, medium yellow onion, garlic, ground chicken, large egg, panko breadcrumbs, grated parmesan cheese, fresh parsley, kosher salt, freshly ground black pepper, pasta, sauce of choice\n",
      "                              name  \\\n",
      "1027             Chicken Meatballs   \n",
      "460         Basic Turkey Meatballs   \n",
      "2891  Meatball Stuffed Shell Pasta   \n",
      "\n",
      "                                            ingredients  \\\n",
      "1027  olive oil, medium yellow onion, garlic, ground...   \n",
      "460   olive oil, medium yellow onion, garlic, ground...   \n",
      "2891  ground beef, ground pork, panko breadcrumbs, d...   \n",
      "\n",
      "                                            description  \n",
      "1027  Chicken dinner takes a new shape with these sa...  \n",
      "460   Everybody loves meatball night! These classic ...  \n",
      "2891                                                     \n",
      "\n",
      "Testar med: chicken wings, kosher salt, Tasty Zesty Spice Blend\n",
      "                                          name  \\\n",
      "144              Air Fryer Zesty Chicken Wings   \n",
      "2236                      Grilled Wings 4 Ways   \n",
      "4929  Zesty Panko-Crusted Salmon And Asparagus   \n",
      "\n",
      "                                            ingredients  \\\n",
      "144   chicken wings, kosher salt, Tasty Zesty Spice ...   \n",
      "2236  chicken wings, olive oil, Tasty McCormick Fier...   \n",
      "4929  olive oil, Tasty Zesty Spice Blend, panko brea...   \n",
      "\n",
      "                                            description  \n",
      "144   One appliance, four snacks! There’s almost not...  \n",
      "2236                                                     \n",
      "4929                                                     \n",
      "\n",
      "Testar med: boneless, skinless chicken breasts, large sweet potato, broccoli, garlic, fresh rosemary, paprika, salt, pepper, olive oil\n",
      "                                            name  \\\n",
      "3172                 One Pan Chicken And Veggies   \n",
      "3290  One-pan Roasted Chicken And Sweet Potatoes   \n",
      "3276          One-pan Chicken & Veggie Meal Prep   \n",
      "\n",
      "                                            ingredients description  \n",
      "3172  boneless, skinless chicken breasts, large swee...              \n",
      "3290  small sweet potato, lemon, green beans, olive ...              \n",
      "3276  sweet potato, brussels sprouts, carrot, brocco...              \n"
     ]
    }
   ],
   "source": [
    "#Validera modellen med kända recept\n",
    "chicken_recipes = df[df['name'].str.contains('Chicken', case=False, na=False)].sample(3)\n",
    "for _, row in chicken_recipes.iterrows():\n",
    "    print(f\"\\nTestar med: {row['ingredients']}\")\n",
    "    print(get_recommendations(row['ingredients']).head(3))\n"
   ]
  },
  {
   "cell_type": "code",
   "execution_count": 10,
   "id": "93a7b55a-fe09-4d99-9fc6-0bccda5e23e7",
   "metadata": {},
   "outputs": [
    {
     "name": "stdout",
     "output_type": "stream",
     "text": [
      "Loaded IDF vector exists: True\n",
      "Test transform successful!\n"
     ]
    }
   ],
   "source": [
    "# Test loading vectorizer\n",
    "loaded_tfidf = joblib.load(\"models/tfidf_model.pkl\")\n",
    "print(\"Loaded IDF vector exists:\", hasattr(loaded_tfidf, \"idf_\"))\n",
    "test_text = \"chicken, rice, soy sauce\"\n",
    "test_vec = loaded_tfidf.transform([test_text])\n",
    "print(\"Test transform successful!\")\n"
   ]
  },
  {
   "cell_type": "code",
   "execution_count": null,
   "id": "aa322a79-6869-481a-9764-9f48fc16af5d",
   "metadata": {},
   "outputs": [],
   "source": []
  }
 ],
 "metadata": {
  "kernelspec": {
   "display_name": "Python 3 (ipykernel)",
   "language": "python",
   "name": "python3"
  },
  "language_info": {
   "codemirror_mode": {
    "name": "ipython",
    "version": 3
   },
   "file_extension": ".py",
   "mimetype": "text/x-python",
   "name": "python",
   "nbconvert_exporter": "python",
   "pygments_lexer": "ipython3",
   "version": "3.11.9"
  }
 },
 "nbformat": 4,
 "nbformat_minor": 5
}
