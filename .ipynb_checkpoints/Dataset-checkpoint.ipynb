{
 "cells": [
  {
   "cell_type": "code",
   "execution_count": 29,
   "id": "8e23ed5b-fbdb-4e54-a138-ea3ba260a530",
   "metadata": {
    "scrolled": true
   },
   "outputs": [],
   "source": [
    "# import os\n",
    "# from kaggle.api.kaggle_api_extended import KaggleApi\n",
    "# import pandas as pd\n",
    "\n",
    "# # 1. Autentisering med miljövariabler\n",
    "# os.environ['KAGGLE_USERNAME'] = 'manpreet00'  # Använd lowercase!\n",
    "# os.environ['KAGGLE_KEY'] = 'd682090a4b89fd016f4edc45fed4a8a9'\n",
    "\n",
    "# # 2. Initiera och autentisera API\n",
    "# api = KaggleApi()\n",
    "# try:\n",
    "#     api.authenticate()\n",
    "#     print(\"Autentisering lyckades!\")\n",
    "# except Exception as e:\n",
    "#     print(f\" Autentiseringsfel: {e}\")\n",
    "#     exit()\n",
    "\n",
    "# # 3. Ladda ner dataset\n",
    "# try:\n",
    "#     api.dataset_download_files('zeeenb/recipes-from-tasty', path='.', unzip=True)\n",
    "#     print(\"Dataset nedladdat och uppackat!\")\n",
    "# except Exception as e:\n",
    "#     print(f\"Nedladdningsfel: {e}\")\n",
    "#     exit()\n",
    "\n",
    "# # 4. Läs in CSV-filen med korrekt format\n",
    "# try:\n",
    "#     # Prova olika separators\n",
    "#     for sep in [';;', ';', '\\t']:\n",
    "#         try:\n",
    "# #             df = pd.read_csv(\n",
    "#                 'dishes.csv',\n",
    "#                 sep=sep,\n",
    "#                 engine='python',\n",
    "#                 on_bad_lines='warn',\n",
    "#                 encoding='latin-1'\n",
    "#             )\n",
    "#             print(f\" Fil läst med separator: '{sep}'\")\n",
    "#             break\n",
    "#         except pd.errors.ParserError:\n",
    "#             continue\n",
    "    \n",
    "#     # Rensa kolumnnamn\n",
    "#     df.columns = df.columns.str.strip().str.replace('[^a-zA-Z_]', '', regex=True)\n",
    "    \n",
    "#     # Visa resultat\n",
    "#     print(\"\\nFörsta 5 raderna:\")\n",
    "#     print(df.head())\n",
    "#     print(\"\\n Kolumnlista:\")\n",
    "#     print(df.columns.tolist())\n",
    "    \n",
    "# except Exception as e:\n",
    "#     print(f\"CSV-läsningsfel: {e}\")\n"
   ]
  },
  {
   "cell_type": "code",
   "execution_count": 30,
   "id": "5fd2f700-67c3-47e7-9d3b-a684d6e66235",
   "metadata": {
    "scrolled": true
   },
   "outputs": [
    {
     "name": "stdout",
     "output_type": "stream",
     "text": [
      "['Unnamed: 0', 'country', 'description', 'id_', 'keywords', 'is_shoppable', 'language', 'name', 'slug', 'video_url', 'is_licensed_video', 'is_community', 'thumbnail_url', 'inspired_by', 'linked_recipes', 'tags', 'cook_time', 'prep_time', 'total_time', 'ratings_negative', 'ratings_positive', 'score', 'protein', 'fat', 'calories', 'sugar', 'carbohydrates', 'fiber']\n",
      "   Unnamed: 0 country                                        description  \\\n",
      "0           0      US  Nothing says Sunday morning like a warm, gooey...   \n",
      "1           1      US                                                NaN   \n",
      "2           2      US                                                NaN   \n",
      "3           3      US                                                NaN   \n",
      "4           4      ZZ                                                NaN   \n",
      "\n",
      "    id_                                           keywords  is_shoppable  \\\n",
      "0   868  bake sale, breakfast, cinnamon buns, cinnamon ...          True   \n",
      "1  6124  1000 whisk omelette, 3 ingredient mac & cheese...          True   \n",
      "2  3094  dome pancakes, easy pancakes, japanese fluffy ...          True   \n",
      "3  4693  tasty, tasty 101; cinnamon rolls; holidays, ta...          True   \n",
      "4  1655                                                NaN          True   \n",
      "\n",
      "  language                        name                      slug  \\\n",
      "0      eng     Homemade Cinnamon Rolls   homemade-cinnamon-rolls   \n",
      "1      eng              Whipped Coffee            whipped-coffee   \n",
      "2      eng             Fluffy Pancakes   fluffy-perfect-pancakes   \n",
      "3      eng  How to Make Cinnamon Rolls  tasty-101-cinnamon-rolls   \n",
      "4      eng     Healthy Banana Pancakes   healthy-banana-pancakes   \n",
      "\n",
      "                                           video_url  ...  total_time  \\\n",
      "0  https://vid.tasty.co/output/25812/mp4_640x640/...  ...         151   \n",
      "1  https://vid.tasty.co/output/163616/landscape_4...  ...          15   \n",
      "2  https://vid.tasty.co/output/65088/landscape_48...  ...          35   \n",
      "3  https://vid.tasty.co/output/121022/landscape_4...  ...         190   \n",
      "4  https://vid.tasty.co/output/27116/mp4_640x640/...  ...           0   \n",
      "\n",
      "   ratings_negative ratings_positive score protein   fat  calories  sugar  \\\n",
      "0               475            17340  98.0     7.0  21.0     479.0   24.0   \n",
      "1               777             8483  92.0     0.0   0.0      69.0   18.0   \n",
      "2              1099             5009  83.0    36.0  50.0    1102.0   12.0   \n",
      "3               207             6649  97.0     8.0  25.0     562.0   28.0   \n",
      "4               591             3853  87.0     7.0   4.0     184.0    9.0   \n",
      "\n",
      "   carbohydrates  fiber  \n",
      "0           63.0    1.0  \n",
      "1           18.0    0.0  \n",
      "2          123.0    3.0  \n",
      "3           74.0    1.0  \n",
      "4           30.0    4.0  \n",
      "\n",
      "[5 rows x 28 columns]\n"
     ]
    }
   ],
   "source": [
    "import pandas as pd\n",
    "\n",
    "# Läs in filen med rätt separator och citattecken\n",
    "recipes_df = pd.read_csv(\n",
    "    'dishes.csv',\n",
    "    sep=',',          # Komma som separator\n",
    "    quotechar='\"',    # Dubbla citattecken för textfält\n",
    "    engine='python',  # Robust hantering av citattecken och radbrytningar\n",
    "    on_bad_lines='warn',  # Hoppa över trasiga rader och varna\n",
    "    encoding='utf-8'      # Standard för Kaggle-filer\n",
    ")\n",
    "\n",
    "# Visa kolumner och de första raderna\n",
    "print(recipes_df.columns.tolist())\n",
    "print(recipes_df.head())\n"
   ]
  },
  {
   "cell_type": "code",
   "execution_count": 14,
   "id": "1b89b1b8-7b41-43ef-9558-64400fc643f1",
   "metadata": {
    "scrolled": true
   },
   "outputs": [
    {
     "name": "stdout",
     "output_type": "stream",
     "text": [
      "['Unnamed: 0', 'country', 'description', 'id_', 'keywords', 'is_shoppable', 'language', 'name', 'slug', 'video_url', 'is_licensed_video', 'is_community', 'thumbnail_url', 'inspired_by', 'linked_recipes', 'tags', 'cook_time', 'prep_time', 'total_time', 'ratings_negative', 'ratings_positive', 'score', 'protein', 'fat', 'calories', 'sugar', 'carbohydrates', 'fiber']\n",
      "   Unnamed: 0 country                                        description  \\\n",
      "0           0      US  Nothing says Sunday morning like a warm, gooey...   \n",
      "1           1      US                                                NaN   \n",
      "2           2      US                                                NaN   \n",
      "3           3      US                                                NaN   \n",
      "4           4      ZZ                                                NaN   \n",
      "\n",
      "    id_                                           keywords  is_shoppable  \\\n",
      "0   868  bake sale, breakfast, cinnamon buns, cinnamon ...          True   \n",
      "1  6124  1000 whisk omelette, 3 ingredient mac & cheese...          True   \n",
      "2  3094  dome pancakes, easy pancakes, japanese fluffy ...          True   \n",
      "3  4693  tasty, tasty 101; cinnamon rolls; holidays, ta...          True   \n",
      "4  1655                                                NaN          True   \n",
      "\n",
      "  language                        name                      slug  \\\n",
      "0      eng     Homemade Cinnamon Rolls   homemade-cinnamon-rolls   \n",
      "1      eng              Whipped Coffee            whipped-coffee   \n",
      "2      eng             Fluffy Pancakes   fluffy-perfect-pancakes   \n",
      "3      eng  How to Make Cinnamon Rolls  tasty-101-cinnamon-rolls   \n",
      "4      eng     Healthy Banana Pancakes   healthy-banana-pancakes   \n",
      "\n",
      "                                           video_url  ...  total_time  \\\n",
      "0  https://vid.tasty.co/output/25812/mp4_640x640/...  ...         151   \n",
      "1  https://vid.tasty.co/output/163616/landscape_4...  ...          15   \n",
      "2  https://vid.tasty.co/output/65088/landscape_48...  ...          35   \n",
      "3  https://vid.tasty.co/output/121022/landscape_4...  ...         190   \n",
      "4  https://vid.tasty.co/output/27116/mp4_640x640/...  ...           0   \n",
      "\n",
      "   ratings_negative ratings_positive score protein   fat  calories  sugar  \\\n",
      "0               475            17340  98.0     7.0  21.0     479.0   24.0   \n",
      "1               777             8483  92.0     0.0   0.0      69.0   18.0   \n",
      "2              1099             5009  83.0    36.0  50.0    1102.0   12.0   \n",
      "3               207             6649  97.0     8.0  25.0     562.0   28.0   \n",
      "4               591             3853  87.0     7.0   4.0     184.0    9.0   \n",
      "\n",
      "   carbohydrates  fiber  \n",
      "0           63.0    1.0  \n",
      "1           18.0    0.0  \n",
      "2          123.0    3.0  \n",
      "3           74.0    1.0  \n",
      "4           30.0    4.0  \n",
      "\n",
      "[5 rows x 28 columns]\n"
     ]
    }
   ],
   "source": [
    "import pandas as pd\n",
    "\n",
    "recipes_df = pd.read_csv('dishes.csv', sep=',', quotechar='\"', engine='python', on_bad_lines='warn', encoding='utf-8')\n",
    "print(recipes_df.columns.tolist())\n",
    "print(recipes_df.head())\n"
   ]
  },
  {
   "cell_type": "code",
   "execution_count": 15,
   "id": "9fb1abc6-de1c-4ba5-941e-1ee59baae520",
   "metadata": {
    "scrolled": true
   },
   "outputs": [
    {
     "name": "stdout",
     "output_type": "stream",
     "text": [
      "Exempel på ett recept-ID: homemade-cinnamon-rolls\n",
      "Data för detta recept:\n",
      "{'ingredient_sections': [{'name': 'Dough', 'ingredients': [{'extra_comment': 'melted', 'name': 'unsalted butter', 'primary_unit': {'quantity': '½', 'display': 'cup'}, 'metric_unit': {'quantity': '115', 'display': 'g'}}, {'extra_comment': 'warm to the touch', 'name': 'whole milk', 'primary_unit': {'quantity': '2', 'display': 'cups'}, 'metric_unit': {'quantity': '480', 'display': 'mL'}}, {'extra_comment': '', 'name': 'granulated sugar', 'primary_unit': {'quantity': '½', 'display': 'cup'}, 'metric_unit': {'quantity': '100', 'display': 'g'}}, {'extra_comment': '', 'name': 'active dry yeast', 'primary_unit': {'quantity': '2 ¼', 'display': 'teaspoons'}, 'metric_unit': None}, {'extra_comment': 'divided', 'name': 'flour', 'primary_unit': {'quantity': '5', 'display': 'cups'}, 'metric_unit': {'quantity': '625', 'display': 'g'}}, {'extra_comment': '', 'name': 'baking powder', 'primary_unit': {'quantity': '1', 'display': 'teaspoon'}, 'metric_unit': None}, {'extra_comment': '', 'name': 'salt', 'primary_unit': {'quantity': '2', 'display': 'teaspoons'}, 'metric_unit': None}]}, {'name': 'Filling', 'ingredients': [{'extra_comment': 'softened', 'name': 'butter', 'primary_unit': {'quantity': '¾', 'display': 'cup'}, 'metric_unit': {'quantity': '170', 'display': 'g'}}, {'extra_comment': '', 'name': 'light brown sugar', 'primary_unit': {'quantity': '¾', 'display': 'cup'}, 'metric_unit': {'quantity': '165', 'display': 'g'}}, {'extra_comment': '', 'name': 'ground cinnamon', 'primary_unit': {'quantity': '2', 'display': 'tablespoons'}, 'metric_unit': None}]}, {'name': 'Frosting', 'ingredients': [{'extra_comment': 'softened', 'name': 'cream cheese', 'primary_unit': {'quantity': '4', 'display': 'oz'}, 'metric_unit': {'quantity': '55', 'display': 'g'}}, {'extra_comment': 'melted', 'name': 'butter', 'primary_unit': {'quantity': '2', 'display': 'tablespoons'}, 'metric_unit': None}, {'extra_comment': '', 'name': 'whole milk', 'primary_unit': {'quantity': '2', 'display': 'tablespoons'}, 'metric_unit': None}, {'extra_comment': '', 'name': 'vanilla extract', 'primary_unit': {'quantity': '1', 'display': 'teaspoon'}, 'metric_unit': None}, {'extra_comment': '', 'name': 'powdered sugar', 'primary_unit': {'quantity': '1', 'display': 'cup'}, 'metric_unit': {'quantity': '120', 'display': 'g'}}]}], 'instructions': [{'display_text': 'Generously butter two disposable foil pie/cake pans.'}, {'display_text': 'In a large bowl, whisk together warm milk, melted butter, and granulated sugar. The mixture should be just warm, registering between 100-110˚F (37-43˚C). If it is hotter, allow to cool slightly.'}, {'display_text': 'Sprinkle the yeast evenly over the warm mixture and let set for 1 minute.'}, {'display_text': 'Add 4 cups (500g) of all-purpose flour to the milk mixture and mix with a wooden spoon until just combined.'}, {'display_text': 'Cover the bowl with a towel or plastic wrap and set in a warm place to rise for 1 hour.'}, {'display_text': 'After 1 hour, the dough should have nearly doubled in size.'}, {'display_text': 'Remove the towel and add an additional ¾ cup (95g) of flour, the baking powder, and salt. Stir well, then turn out onto a well-floured surface.'}, {'display_text': 'Knead the dough lightly, adding additional flour as necessary, until the dough just loses its stickiness and does not stick to the surface.'}, {'display_text': 'Roll the dough out into a large rectangle, about ½-inch (1 cm) thick. Fix corners to make sure they are sharp and even.'}, {'display_text': 'Spread the softened butter evenly over the dough.'}, {'display_text': 'Sprinkle evenly with brown sugar and a generous sprinkling of cinnamon.'}, {'display_text': 'Press the mixture into the butter.'}, {'display_text': 'Roll up the dough, forming a log, and pinch the seam closed. Place seam-side down. Trim off any unevenness on either end.'}, {'display_text': 'Cut the log in half, then divide each half into 7 evenly sized pieces. About 1½ inches (8cm) thick each.'}, {'display_text': 'Place 7 cinnamon rolls in each cake pan, one in the center, six around the sides. Cover with plastic wrap and place in a warm place to rise for 30 minutes.'}, {'display_text': 'Preheat oven to 350˚F (180˚C).'}, {'display_text': 'To prepare the frosting. In a medium-size mixing bowl, whisk together cream cheese, butter, whole milk, vanilla, and powdered sugar, until smooth.'}, {'display_text': 'Remove plastic wrap. Bake the cinnamon rolls in a preheated oven for 25-30 minutes, until golden brown.'}, {'display_text': 'While still warm, drizzle evenly with frosting.'}, {'display_text': 'Enjoy!'}]}\n"
     ]
    }
   ],
   "source": [
    "import json\n",
    "\n",
    "with open('ingredient_and_instructions.json', 'r', encoding='utf-8') as f:\n",
    "    ingredient_data = json.load(f)\n",
    "\n",
    "# Visa exempel på hur datan ser ut\n",
    "first_key = list(ingredient_data.keys())[0]\n",
    "print(\"Exempel på ett recept-ID:\", first_key)\n",
    "print(\"Data för detta recept:\")\n",
    "print(ingredient_data[first_key])\n"
   ]
  },
  {
   "cell_type": "code",
   "execution_count": 20,
   "id": "97f67e8a-51a3-4251-9f6d-feaab668974f",
   "metadata": {
    "scrolled": true
   },
   "outputs": [
    {
     "name": "stdout",
     "output_type": "stream",
     "text": [
      "                                 name  \\\n",
      "0             Homemade Cinnamon Rolls   \n",
      "1                      Whipped Coffee   \n",
      "2                     Fluffy Pancakes   \n",
      "3          How to Make Cinnamon Rolls   \n",
      "4             Healthy Banana Pancakes   \n",
      "5  How To Make The Fluffiest Pancakes   \n",
      "6                 Buttermilk Pancakes   \n",
      "7    3-Ingredient Banana Oat Smoothie   \n",
      "8        The Fluffiest Vegan Pancakes   \n",
      "9          Peanut Butter Energy Bites   \n",
      "\n",
      "                                         ingredients  \n",
      "0  unsalted butter, whole milk, granulated sugar,...  \n",
      "1  hot water, sugar, instant coffee powder, milk,...  \n",
      "2  flour, baking powder, milk, butter, egg yolks,...  \n",
      "3  whole milk, sugar, unsalted butter, active dry...  \n",
      "4  ripe bananas, eggs, vanilla extract, quick-coo...  \n",
      "5  all-purpose flour, sugar, kosher salt, baking ...  \n",
      "6  all-purpose flour, sugar, kosher salt, baking ...  \n",
      "7                          rolled oats, banana, milk  \n",
      "8  flour, organic sugar, baking powder, salt, non...  \n",
      "9  creamy peanut butter, old fashion oat, honey, ...  \n",
      "Fil sparad som 'recipes_with_ingredients.csv'\n"
     ]
    }
   ],
   "source": [
    "import pandas as pd\n",
    "import json\n",
    "\n",
    "# Läs in CSV och JSON\n",
    "recipes_df = pd.read_csv('dishes.csv', sep=',', quotechar='\"', engine='python', on_bad_lines='warn', encoding='utf-8')\n",
    "with open('ingredient_and_instructions.json', 'r', encoding='utf-8') as f:\n",
    "    ingredient_data = json.load(f)\n",
    "\n",
    "# Funktion som hämtar ingrediens-listan för varje slug, ignorerar None\n",
    "def get_ingredients(row):\n",
    "    recipe_slug = str(row['slug'])\n",
    "    entry = ingredient_data.get(recipe_slug)\n",
    "    if entry and 'ingredient_sections' in entry:\n",
    "        ingredients = []\n",
    "        for section in entry['ingredient_sections']:\n",
    "            for ing in section.get('ingredients', []):\n",
    "                name = ing.get('name')\n",
    "                if isinstance(name, str) and name.strip():  # Bara om name är en icke-tom sträng\n",
    "                    ingredients.append(name)\n",
    "        return ', '.join(ingredients) if ingredients else None\n",
    "    return None\n",
    "\n",
    "# Lägg till kolumnen ingredients i din DataFrame (använd slug!)\n",
    "recipes_df['ingredients'] = recipes_df.apply(get_ingredients, axis=1)\n",
    "\n",
    "# Visa resultat\n",
    "print(recipes_df[['name', 'ingredients']].head(10))\n",
    "# Spara till en ny CSV-fil för framtida användning\n",
    "recipes_df.to_csv('recipes_with_ingredients.csv', index=False)\n",
    "print(\"Fil sparad som 'recipes_with_ingredients.csv'\")\n",
    "\n"
   ]
  },
  {
   "cell_type": "code",
   "execution_count": 21,
   "id": "b5ee7728-89fe-43e7-a9ff-c7061e2f321c",
   "metadata": {},
   "outputs": [
    {
     "name": "stdout",
     "output_type": "stream",
     "text": [
      "        id                 display_name           type\n",
      "0  7336057   Shoppable Recipes Desserts   feature_page\n",
      "1  6854262                 Mother's Day        holiday\n",
      "2  5993378  Tasty's 5th Birthday: Sweet   feature_page\n",
      "3  5831534                Best of Tasty  business_tags\n",
      "4  1280501                 Chef's Knife      equipment\n"
     ]
    }
   ],
   "source": [
    "tags_df = pd.read_csv('tags.csv', sep=',', quotechar='\"')\n",
    "tags_df = tags_df[['id', 'display_name', 'type']]  # Rensa onödiga kolumner\n",
    "print(tags_df.head())\n"
   ]
  },
  {
   "cell_type": "code",
   "execution_count": 24,
   "id": "a31fbd45-10a6-4da5-a729-28597cba8934",
   "metadata": {
    "scrolled": true
   },
   "outputs": [
    {
     "name": "stdout",
     "output_type": "stream",
     "text": [
      "['.git', '.gitignore', '.ipynb_checkpoints', 'Dataset.ipynb', 'dishes.csv', 'ingredient_and_instructions.json', 'kaggle.json', 'recipes_with_ingredients.csv', 'recipe_final.csv', 'requirements.txt', 'tags.csv', 'venv']\n"
     ]
    }
   ],
   "source": [
    "import os\n",
    "print(os.listdir())"
   ]
  },
  {
   "cell_type": "code",
   "execution_count": 28,
   "id": "98e2d5d7-3164-4461-850f-f07d15be2cda",
   "metadata": {
    "scrolled": true
   },
   "outputs": [
    {
     "name": "stdout",
     "output_type": "stream",
     "text": [
      "✅ Slutgiltig fil sparad!\n",
      "                                         name  \\\n",
      "0  1-Day Noodles (Taiwanese Beef Noodle Soup)   \n",
      "1                         1-Hour Banana Bread   \n",
      "2               1-Hour Buffalo  Chicken Wings   \n",
      "\n",
      "                                         ingredients  \\\n",
      "0  bone-in chuck beef short ribs, beef shin bones...   \n",
      "1  unsalted butter, caster sugar, self-raising fl...   \n",
      "2  nonstick cooking spray, chicken wings, kosher ...   \n",
      "\n",
      "                                            tag_name  \n",
      "0  Dairy-Free, Taiwanese, Lunar New Year, Big Bat...  \n",
      "1             Oven, Easy, Desserts, Indulgent Sweets  \n",
      "2  Under 1 Hour, Game Day, Oven, Mixing Bowl, Bak...  \n"
     ]
    }
   ],
   "source": [
    "import pandas as pd\n",
    "\n",
    "# 1. Läs in filerna\n",
    "recipes_df = pd.read_csv(\"recipes_with_ingredients.csv\")\n",
    "tags_df = pd.read_csv(\"tags.csv\", usecols=[\"id\", \"display_name\"])\n",
    "\n",
    "# 2. Förbered tagg-data\n",
    "tags_df[\"id\"] = tags_df[\"id\"].astype(str).str.strip()\n",
    "tags_df = tags_df.rename(columns={\"display_name\": \"tag_name\"})\n",
    "\n",
    "# 3. Bearbeta receptens taggar\n",
    "recipes_df[\"tags\"] = (\n",
    "    recipes_df[\"tags\"]\n",
    "    .astype(str)\n",
    "    .str.replace(r\"\\[|\\]\", \"\", regex=True)  # Ta bort hakparenteser med regex\n",
    "    .str.split(\",\")\n",
    ")\n",
    "\n",
    "# 4. Explodera taggar och slå ihop med taggnamn\n",
    "exploded_tags = recipes_df.explode(\"tags\")\n",
    "exploded_tags[\"tags\"] = exploded_tags[\"tags\"].str.strip()\n",
    "\n",
    "merged_df = exploded_tags.merge(\n",
    "    tags_df,\n",
    "    left_on=\"tags\",\n",
    "    right_on=\"id\",\n",
    "    how=\"left\"\n",
    ")\n",
    "\n",
    "# 5. Gruppera tillbaka till receptnivå (korrigerad version)\n",
    "# Skapa en aggregeringsdictionary som exkluderar 'name' och 'tags'\n",
    "agg_dict = {\n",
    "    col: \"first\" for col in recipes_df.columns \n",
    "    if col not in [\"name\", \"tags\"]\n",
    "}\n",
    "agg_dict[\"tag_name\"] = lambda x: \", \".join(x.dropna().unique())  # Undvik dubbletter\n",
    "\n",
    "final_df = merged_df.groupby(\"name\", as_index=False).agg(agg_dict)\n",
    "\n",
    "# 6. Spara slutgiltig fil\n",
    "final_df.to_csv(\"recipes_with_ingredients_and_tags.csv\", index=False)\n",
    "\n",
    "# Verifiera\n",
    "print(\"✅ Slutgiltig fil sparad!\")\n",
    "print(final_df[[\"name\", \"ingredients\", \"tag_name\"]].head(3))\n"
   ]
  },
  {
   "cell_type": "code",
   "execution_count": null,
   "id": "004f9215-b654-4933-9411-ec5f49e05bcc",
   "metadata": {},
   "outputs": [],
   "source": []
  }
 ],
 "metadata": {
  "kernelspec": {
   "display_name": "Python 3 (ipykernel)",
   "language": "python",
   "name": "python3"
  },
  "language_info": {
   "codemirror_mode": {
    "name": "ipython",
    "version": 3
   },
   "file_extension": ".py",
   "mimetype": "text/x-python",
   "name": "python",
   "nbconvert_exporter": "python",
   "pygments_lexer": "ipython3",
   "version": "3.11.9"
  }
 },
 "nbformat": 4,
 "nbformat_minor": 5
}
