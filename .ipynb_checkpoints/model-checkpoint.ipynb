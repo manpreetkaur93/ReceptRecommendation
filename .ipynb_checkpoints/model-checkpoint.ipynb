{
 "cells": [
  {
   "cell_type": "code",
   "execution_count": 1,
   "id": "d2004948-3bdb-4ba8-a962-5129f4e63439",
   "metadata": {},
   "outputs": [],
   "source": [
    "import pandas as pd\n",
    "from sklearn.feature_extraction.text import TfidfVectorizer\n",
    "from sklearn.metrics.pairwise import cosine_similarity\n",
    "import joblib\n",
    "import os\n"
   ]
  },
  {
   "cell_type": "code",
   "execution_count": 2,
   "id": "a47612c3-c555-4866-bd2d-f88709237d64",
   "metadata": {},
   "outputs": [],
   "source": [
    "# Kontrollera att filen finns i samma mapp som din notebook\n",
    "import os\n",
    "assert os.path.exists(\"recipes_with_ingredients_and_tags.csv\"), \"CSV-filen saknas! Ladda upp den till projektmappen.\"\n"
   ]
  },
  {
   "cell_type": "code",
   "execution_count": 4,
   "id": "fdd19d9a-faad-40e3-b56e-93a5fdde768b",
   "metadata": {
    "scrolled": true
   },
   "outputs": [
    {
     "name": "stdout",
     "output_type": "stream",
     "text": [
      "Index(['name', 'Unnamed: 0', 'country', 'description', 'id_', 'keywords',\n",
      "       'is_shoppable', 'language', 'slug', 'video_url', 'is_licensed_video',\n",
      "       'is_community', 'thumbnail_url', 'inspired_by', 'linked_recipes',\n",
      "       'cook_time', 'prep_time', 'total_time', 'ratings_negative',\n",
      "       'ratings_positive', 'score', 'protein', 'fat', 'calories', 'sugar',\n",
      "       'carbohydrates', 'fiber', 'ingredients', 'tag_name'],\n",
      "      dtype='object')\n",
      "                                         name  Unnamed: 0 country  \\\n",
      "0  1-Day Noodles (Taiwanese Beef Noodle Soup)        1936      US   \n",
      "1                         1-Hour Banana Bread        3885      US   \n",
      "2               1-Hour Buffalo  Chicken Wings        1852      US   \n",
      "3             1-Hour Noodles (Zha Jiang Mian)        1736      US   \n",
      "4                            1-Minute Noodles        1536      US   \n",
      "\n",
      "                                         description   id_ keywords  \\\n",
      "0                                                NaN  5464      NaN   \n",
      "1                                                NaN  7261      NaN   \n",
      "2  Think of this as your classic go-to recipe the...  7069      NaN   \n",
      "3                                                NaN  5463      NaN   \n",
      "4  A quick and easy cold noodle dish for even the...  5462      NaN   \n",
      "\n",
      "   is_shoppable language                                      slug  \\\n",
      "0          True      eng  1-day-noodles-taiwanese-beef-noodle-soup   \n",
      "1          True      eng                       1-hour-banana-bread   \n",
      "2          True      eng              1-hour-buffalo-chicken-wings   \n",
      "3          True      eng             1-hour-noodles-zha-jiang-mian   \n",
      "4          True      eng                          1-minute-noodles   \n",
      "\n",
      "                                           video_url  ...  ratings_positive  \\\n",
      "0  https://vid.tasty.co/output/140619/hls24_15645...  ...                46   \n",
      "1                                                NaN  ...                 0   \n",
      "2  https://vid.tasty.co/output/190657/hls24_16106...  ...                67   \n",
      "3  https://vid.tasty.co/output/140619/landscape_4...  ...                92   \n",
      "4  https://vid.tasty.co/output/140619/landscape_4...  ...               181   \n",
      "\n",
      "   score protein   fat calories  sugar  carbohydrates  fiber  \\\n",
      "0   92.0     NaN   NaN      NaN    NaN            NaN    NaN   \n",
      "1    NaN     4.0  16.0    302.0   15.0           35.0    1.0   \n",
      "2   89.0     NaN   NaN      NaN    NaN            NaN    NaN   \n",
      "3   93.0    44.0  69.0   1440.0   10.0          161.0    8.0   \n",
      "4   91.0    12.0  38.0    675.0    4.0           71.0    3.0   \n",
      "\n",
      "                                         ingredients  \\\n",
      "0  bone-in chuck beef short ribs, beef shin bones...   \n",
      "1  unsalted butter, caster sugar, self-raising fl...   \n",
      "2  nonstick cooking spray, chicken wings, kosher ...   \n",
      "3  vegetable oil, garlic, fresh ginger, shallot, ...   \n",
      "4  chinese black vinegar, high grade sesame oil, ...   \n",
      "\n",
      "                                            tag_name  \n",
      "0  Dairy-Free, Taiwanese, Lunar New Year, Big Bat...  \n",
      "1             Oven, Easy, Desserts, Indulgent Sweets  \n",
      "2  Under 1 Hour, Game Day, Oven, Mixing Bowl, Bak...  \n",
      "3  Dairy-Free, High-Fiber, High-Protein, Chinese,...  \n",
      "4  Vegetarian, Vegan, Dairy-Free, Low-Sugar, Thai...  \n",
      "\n",
      "[5 rows x 29 columns]\n"
     ]
    }
   ],
   "source": [
    "#LÄser in data\n",
    "df = pd.read_csv(\"recipes_with_ingredients_and_tags.csv\")\n",
    "print(df.columns)\n",
    "print(df.head())\n"
   ]
  },
  {
   "cell_type": "code",
   "execution_count": 5,
   "id": "192d17b3-024e-4498-9a8e-c30ed78cf56e",
   "metadata": {},
   "outputs": [],
   "source": [
    "#Definiera förbearbetningsfunktion\n",
    "def preprocess_text(text):\n",
    "    if pd.isnull(text):\n",
    "        return \"\"\n",
    "    return ' '.join(str(text).lower().replace(',', ' ').split())\n"
   ]
  },
  {
   "cell_type": "code",
   "execution_count": 6,
   "id": "04898f8b-dfde-463a-8fcc-fffa5e5cd315",
   "metadata": {},
   "outputs": [],
   "source": [
    "#Skapa en ny kolumn som kombinerar ingredienser och taggar\n",
    "df['processed'] = df['ingredients'].apply(preprocess_text) + ' ' + df['tag_name'].apply(preprocess_text)\n"
   ]
  },
  {
   "cell_type": "code",
   "execution_count": 7,
   "id": "7dfda44b-5c7c-460c-907b-f3e997546764",
   "metadata": {},
   "outputs": [
    {
     "name": "stdout",
     "output_type": "stream",
     "text": [
      "✅ Modeller sparade!\n"
     ]
    }
   ],
   "source": [
    "#Träna och spara TF-IDF-modellen\n",
    "tfidf = TfidfVectorizer(stop_words='english', max_features=5000)\n",
    "tfidf_matrix = tfidf.fit_transform(df['processed'])\n",
    "\n",
    "os.makedirs(\"models\", exist_ok=True)\n",
    "joblib.dump(tfidf, \"models/tfidf_model.pkl\")\n",
    "joblib.dump(tfidf_matrix, \"models/tfidf_matrix.pkl\")\n",
    "\n",
    "print(\"✅ Modeller sparade!\")\n"
   ]
  },
  {
   "cell_type": "code",
   "execution_count": 8,
   "id": "fc93e5b2-b490-4abe-a97b-530b059e7ac0",
   "metadata": {},
   "outputs": [],
   "source": [
    "#Definiera rekommendationsfunktion\n",
    "def get_recommendations(user_input, top_n=5):\n",
    "    processed_input = preprocess_text(user_input)\n",
    "    input_vec = tfidf.transform([processed_input])\n",
    "    sim_scores = cosine_similarity(input_vec, tfidf_matrix).flatten()\n",
    "    top_indices = sim_scores.argsort()[-top_n:][::-1]\n",
    "    results = df.iloc[top_indices][['name', 'ingredients', 'description']].fillna(\"\")\n",
    "    return results\n"
   ]
  },
  {
   "cell_type": "code",
   "execution_count": 9,
   "id": "29e5fa39-4780-44ae-a030-cd67086a42e8",
   "metadata": {
    "scrolled": true
   },
   "outputs": [
    {
     "name": "stdout",
     "output_type": "stream",
     "text": [
      "\n",
      "Testar med: bone-in, skin-on chicken thighs, sea salt, freshly ground black pepper, canola oil, yellow onion, fresh tomato, poblano chile, garlic, hot smoked paprika, red wine vinegar, low sodium chicken stock, bacon, medium red onion, red bell pepper, celery, jalapeño, basmati rice, chopped tomato, bay leaves, sea salt, low sodium chicken broth\n",
      "                                                   name  \\\n",
      "620   Braised Chicken Thighs With Red Rice As Made B...   \n",
      "977                               Chicken And Kale Stew   \n",
      "1763                            Easy Chicken Cacciatore   \n",
      "\n",
      "                                            ingredients  \\\n",
      "620   bone-in, skin-on chicken thighs, sea salt, fre...   \n",
      "977   fresh bay leaves, fresh rosemary, fresh thyme,...   \n",
      "1763  boneless, skinless chicken breasts, salt, pepp...   \n",
      "\n",
      "                                            description  \n",
      "620   My father who has Alzheimer’s was born in Hava...  \n",
      "977   Want a cozy chicken stew that tastes like it’s...  \n",
      "1763                                                     \n",
      "\n",
      "Testar med: milk, sugar, active dry yeast, all purpose flour, whole wheat flour, butter, eggs, salt, oil, onion, garlic, fresh ginger, ground chicken, smoked paprika, coriander, turmeric, cumin, tomato paste, salt, pepper, chili powder, frozen peas, black/white sesame seed\n",
      "                             name  \\\n",
      "4108  Spiced Chicken Stuffed Buns   \n",
      "4940               Zucchini Curry   \n",
      "5              1-Wok Chicken Saag   \n",
      "\n",
      "                                            ingredients description  \n",
      "4108  milk, sugar, active dry yeast, all purpose flo...              \n",
      "4940  oil, red onion, garlic, ginger, coriander, smo...              \n",
      "5     chicken tenderloins, spinach, tomato, medium r...              \n",
      "\n",
      "Testar med: farfalle pasta, chicken, olive oil, salt, pepper, romaine lettuce, grape tomatoes, crouton, parmesan cheese, caesar dressing\n",
      "                            name  \\\n",
      "995   Chicken Caesar Pasta Salad   \n",
      "323   Bacon Avocado Caesar Salad   \n",
      "4205     Steak and Avocado Salad   \n",
      "\n",
      "                                            ingredients description  \n",
      "995   farfalle pasta, chicken, olive oil, salt, pepp...              \n",
      "323   romaine lettuce, bacon, avocado, crouton, parm...              \n",
      "4205  sirloin steak, salt, pepper, oil, romaine lett...              \n"
     ]
    }
   ],
   "source": [
    "#Validera modellen med kända recept\n",
    "chicken_recipes = df[df['name'].str.contains('Chicken', case=False, na=False)].sample(3)\n",
    "for _, row in chicken_recipes.iterrows():\n",
    "    print(f\"\\nTestar med: {row['ingredients']}\")\n",
    "    print(get_recommendations(row['ingredients']).head(3))\n"
   ]
  },
  {
   "cell_type": "code",
   "execution_count": null,
   "id": "93a7b55a-fe09-4d99-9fc6-0bccda5e23e7",
   "metadata": {},
   "outputs": [],
   "source": []
  }
 ],
 "metadata": {
  "kernelspec": {
   "display_name": "Python 3 (ipykernel)",
   "language": "python",
   "name": "python3"
  },
  "language_info": {
   "codemirror_mode": {
    "name": "ipython",
    "version": 3
   },
   "file_extension": ".py",
   "mimetype": "text/x-python",
   "name": "python",
   "nbconvert_exporter": "python",
   "pygments_lexer": "ipython3",
   "version": "3.11.9"
  }
 },
 "nbformat": 4,
 "nbformat_minor": 5
}
