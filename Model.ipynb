{
 "cells": [
  {
   "cell_type": "code",
   "execution_count": 1,
   "id": "2ed47e2f-2a98-49a3-ba8e-daf790465355",
   "metadata": {
    "scrolled": true
   },
   "outputs": [
    {
     "name": "stdout",
     "output_type": "stream",
     "text": [
      "Index(['name', 'Unnamed: 0', 'country', 'description', 'id_', 'keywords',\n",
      "       'is_shoppable', 'language', 'slug', 'video_url', 'is_licensed_video',\n",
      "       'is_community', 'thumbnail_url', 'inspired_by', 'linked_recipes',\n",
      "       'cook_time', 'prep_time', 'total_time', 'ratings_negative',\n",
      "       'ratings_positive', 'score', 'protein', 'fat', 'calories', 'sugar',\n",
      "       'carbohydrates', 'fiber', 'ingredients', 'tag_name'],\n",
      "      dtype='object')\n",
      "                                         name  Unnamed: 0 country  \\\n",
      "0  1-Day Noodles (Taiwanese Beef Noodle Soup)        1936      US   \n",
      "1                         1-Hour Banana Bread        3885      US   \n",
      "2               1-Hour Buffalo  Chicken Wings        1852      US   \n",
      "3             1-Hour Noodles (Zha Jiang Mian)        1736      US   \n",
      "4                            1-Minute Noodles        1536      US   \n",
      "\n",
      "                                         description   id_ keywords  \\\n",
      "0                                                NaN  5464      NaN   \n",
      "1                                                NaN  7261      NaN   \n",
      "2  Think of this as your classic go-to recipe the...  7069      NaN   \n",
      "3                                                NaN  5463      NaN   \n",
      "4  A quick and easy cold noodle dish for even the...  5462      NaN   \n",
      "\n",
      "   is_shoppable language                                      slug  \\\n",
      "0          True      eng  1-day-noodles-taiwanese-beef-noodle-soup   \n",
      "1          True      eng                       1-hour-banana-bread   \n",
      "2          True      eng              1-hour-buffalo-chicken-wings   \n",
      "3          True      eng             1-hour-noodles-zha-jiang-mian   \n",
      "4          True      eng                          1-minute-noodles   \n",
      "\n",
      "                                           video_url  ...  ratings_positive  \\\n",
      "0  https://vid.tasty.co/output/140619/hls24_15645...  ...                46   \n",
      "1                                                NaN  ...                 0   \n",
      "2  https://vid.tasty.co/output/190657/hls24_16106...  ...                67   \n",
      "3  https://vid.tasty.co/output/140619/landscape_4...  ...                92   \n",
      "4  https://vid.tasty.co/output/140619/landscape_4...  ...               181   \n",
      "\n",
      "   score protein   fat calories  sugar  carbohydrates  fiber  \\\n",
      "0   92.0     NaN   NaN      NaN    NaN            NaN    NaN   \n",
      "1    NaN     4.0  16.0    302.0   15.0           35.0    1.0   \n",
      "2   89.0     NaN   NaN      NaN    NaN            NaN    NaN   \n",
      "3   93.0    44.0  69.0   1440.0   10.0          161.0    8.0   \n",
      "4   91.0    12.0  38.0    675.0    4.0           71.0    3.0   \n",
      "\n",
      "                                         ingredients  \\\n",
      "0  bone-in chuck beef short ribs, beef shin bones...   \n",
      "1  unsalted butter, caster sugar, self-raising fl...   \n",
      "2  nonstick cooking spray, chicken wings, kosher ...   \n",
      "3  vegetable oil, garlic, fresh ginger, shallot, ...   \n",
      "4  chinese black vinegar, high grade sesame oil, ...   \n",
      "\n",
      "                                            tag_name  \n",
      "0  Dairy-Free, Taiwanese, Lunar New Year, Big Bat...  \n",
      "1             Oven, Easy, Desserts, Indulgent Sweets  \n",
      "2  Under 1 Hour, Game Day, Oven, Mixing Bowl, Bak...  \n",
      "3  Dairy-Free, High-Fiber, High-Protein, Chinese,...  \n",
      "4  Vegetarian, Vegan, Dairy-Free, Low-Sugar, Thai...  \n",
      "\n",
      "[5 rows x 29 columns]\n"
     ]
    }
   ],
   "source": [
    "import pandas as pd\n",
    "\n",
    "# Läs in den slutgiltiga, sammanfogade filen\n",
    "df = pd.read_csv(\"recipes_with_ingredients_and_tags.csv\")\n",
    "print(df.columns)\n",
    "print(df.head())\n"
   ]
  },
  {
   "cell_type": "code",
   "execution_count": 2,
   "id": "d7c5a597-abfa-416b-b20c-269bb06ffa63",
   "metadata": {},
   "outputs": [
    {
     "name": "stdout",
     "output_type": "stream",
     "text": [
      "(4956, 2673)\n"
     ]
    }
   ],
   "source": [
    "from sklearn.feature_extraction.text import TfidfVectorizer\n",
    "\n",
    "tfidf = TfidfVectorizer(stop_words='english')\n",
    "X = tfidf.fit_transform(df['ingredients'].fillna('') + ' ' + df['tag_name'].fillna(''))\n",
    "\n",
    "print(X.shape)\n"
   ]
  },
  {
   "cell_type": "markdown",
   "id": "9a1100f9-becb-4543-bccd-da93ea97e470",
   "metadata": {},
   "source": [
    "## Skapa en funktion som, givet en textsträng (t.ex. \"chicken, garlic, soy sauce\"), returnerar de mest liknande recepten."
   ]
  },
  {
   "cell_type": "code",
   "execution_count": 3,
   "id": "ea59ab98-a795-4886-82df-87fcf988041a",
   "metadata": {
    "scrolled": true
   },
   "outputs": [
    {
     "name": "stdout",
     "output_type": "stream",
     "text": [
      "                                                name  \\\n",
      "3579                 Pork Red Na (Noodles And Gravy)   \n",
      "2626                                     Katsu Curry   \n",
      "3204                       One-Pan Flavorful Tenders   \n",
      "4504  Thai Street Wings As Made By Chef Arnold Myint   \n",
      "2148                                 Gobi Manchurian   \n",
      "\n",
      "                                            ingredients  \\\n",
      "3579  pork shoulder, rice noodle, dark soy sauce, ra...   \n",
      "2626  onion, butter, garlic, flour, mild curry powde...   \n",
      "3204  oil, red chili flakes, jalapeño, white vinegar...   \n",
      "4504  chicken wings, fish sauce, low sodium soy sauc...   \n",
      "2148  cauliflower florets, salt, flour, cornstarch, ...   \n",
      "\n",
      "                                               tag_name  \\\n",
      "3579   Dairy-Free, Weeknight, Dinner, Stove Top, Fusion   \n",
      "2626  Low-Sugar, Stove Top, Special Occasion, Dinner...   \n",
      "3204  Dairy-Free, Stove Top, Fusion, Weeknight, Lunc...   \n",
      "4504  Dairy-Free, High-Protein, Thai, Dry Measuring ...   \n",
      "2148  Vegetarian, Vegan, Dairy-Free, Microwave, Baki...   \n",
      "\n",
      "                                            description  \n",
      "3579                                                NaN  \n",
      "2626                                                NaN  \n",
      "3204                                                NaN  \n",
      "4504  Chef Arnold Myint satisfies his Thai street fo...  \n",
      "2148                                                NaN  \n"
     ]
    }
   ],
   "source": [
    "from sklearn.metrics.pairwise import cosine_similarity\n",
    "import numpy as np\n",
    "\n",
    "def recommend_recipes(user_ingredients, df, tfidf, X, top_n=5):\n",
    "    \"\"\"\n",
    "    user_ingredients: str, t.ex. \"chicken, garlic, soy sauce\"\n",
    "    df: din DataFrame\n",
    "    tfidf: din TfidfVectorizer\n",
    "    X: din TF-IDF-matris\n",
    "    top_n: antal rekommendationer att returnera\n",
    "    \"\"\"\n",
    "    # Skapa en TF-IDF-vektor för användarens ingredienser\n",
    "    user_vec = tfidf.transform([user_ingredients])\n",
    "    # Beräkna likheten mot alla recept\n",
    "    similarities = cosine_similarity(user_vec, X).flatten()\n",
    "    # Hämta index för de mest liknande recepten\n",
    "    top_indices = similarities.argsort()[-top_n:][::-1]\n",
    "    # Returnera de bästa recepten\n",
    "    return df.iloc[top_indices][['name', 'ingredients', 'tag_name', 'description']]\n",
    "\n",
    "# Testa funktionen!\n",
    "test_result = recommend_recipes(\"chicken, garlic, soy sauce\", df, tfidf, X, top_n=5)\n",
    "print(test_result)\n"
   ]
  },
  {
   "cell_type": "code",
   "execution_count": 4,
   "id": "90fa2b2c-5cdd-4ecc-84e3-781e2feffd79",
   "metadata": {
    "scrolled": true
   },
   "outputs": [
    {
     "name": "stdout",
     "output_type": "stream",
     "text": [
      "=== Grundläggande statistik ===\n",
      "Antal recept: 4956\n",
      "Antal unika ingredienser: 6279\n",
      "Saknade värden i 'ingredients': 0\n",
      "\n",
      "Top 20 vanligaste ingredienser:\n",
      "ingredients\n",
      "salt                           2148\n",
      "kosher salt                    1506\n",
      "garlic                         1324\n",
      "pepper                         1166\n",
      "olive oil                      1138\n",
      "unsalted butter                 910\n",
      "water                           857\n",
      "sugar                           802\n",
      "vanilla extract                 784\n",
      "butter                          684\n",
      "milk                            554\n",
      "eggs                            543\n",
      "large eggs                      474\n",
      "granulated sugar                463\n",
      "garlic powder                   462\n",
      "powdered sugar                  444\n",
      "all purpose flour               438\n",
      "heavy cream                     435\n",
      "baking powder                   421\n",
      "freshly ground black pepper     406\n",
      "Name: count, dtype: int64\n"
     ]
    }
   ],
   "source": [
    "# Snabb EDA\n",
    "print(\"=== Grundläggande statistik ===\")\n",
    "print(f\"Antal recept: {len(df)}\")\n",
    "print(f\"Antal unika ingredienser: {df['ingredients'].str.split(', ').explode().nunique()}\")\n",
    "print(f\"Saknade värden i 'ingredients': {df['ingredients'].isnull().sum()}\")\n",
    "\n",
    "# Visa vanligaste ingredienserna\n",
    "all_ingredients = df['ingredients'].str.split(', ').explode().value_counts().head(20)\n",
    "print(\"\\nTop 20 vanligaste ingredienser:\")\n",
    "print(all_ingredients)\n"
   ]
  },
  {
   "cell_type": "code",
   "execution_count": 5,
   "id": "8d5d160a-0e67-4c77-8818-e3da8864df73",
   "metadata": {},
   "outputs": [],
   "source": [
    "def preprocess_text(text):\n",
    "    if pd.isnull(text):\n",
    "        return \"\"\n",
    "    # Grundläggande rensning\n",
    "    text = text.lower().replace(',', ' ')\n",
    "    return ' '.join(text.split())\n",
    "\n",
    "df['processed_ingredients'] = df['ingredients'].apply(preprocess_text)\n"
   ]
  },
  {
   "cell_type": "code",
   "execution_count": 13,
   "id": "913e0eaf-a434-4566-8c17-ff34fc1fca6e",
   "metadata": {},
   "outputs": [
    {
     "name": "stdout",
     "output_type": "stream",
     "text": [
      "✅ Modeller sparade!\n"
     ]
    }
   ],
   "source": [
    "import pandas as pd\n",
    "from sklearn.feature_extraction.text import TfidfVectorizer\n",
    "from sklearn.metrics.pairwise import cosine_similarity\n",
    "import joblib\n",
    "import os\n",
    "\n",
    "# 1. Läs in data\n",
    "df = pd.read_csv(\"recipes_with_ingredients_and_tags.csv\")\n",
    "\n",
    "# 2. Förbearbeta text\n",
    "def preprocess_text(text):\n",
    "    if pd.isnull(text):\n",
    "        return \"\"\n",
    "    return ' '.join(str(text).lower().replace(',', ' ').split())\n",
    "\n",
    "# Kombinera ingredienser och taggar\n",
    "df['processed'] = df['ingredients'].apply(preprocess_text) + ' ' + df['tag_name'].apply(preprocess_text)\n",
    "\n",
    "# 3. Skapa och träna TF-IDF\n",
    "tfidf = TfidfVectorizer(stop_words='english', max_features=5000)\n",
    "tfidf_matrix = tfidf.fit_transform(df['processed'])  # Använd den nya kolumnen 'processed'\n",
    "\n",
    "# 4. Spara modeller\n",
    "os.makedirs(\"models\", exist_ok=True)\n",
    "joblib.dump(tfidf, \"models/tfidf_model.pkl\")\n",
    "joblib.dump(tfidf_matrix, \"models/tfidf_matrix.pkl\")\n",
    "\n",
    "print(\"✅ Modeller sparade!\")\n",
    "\n",
    "\n"
   ]
  },
  {
   "cell_type": "code",
   "execution_count": 7,
   "id": "1f3b9803-87f6-479f-841a-bb104021705f",
   "metadata": {
    "scrolled": true
   },
   "outputs": [
    {
     "name": "stdout",
     "output_type": "stream",
     "text": [
      "\n",
      "Testar med: Marketside® Cauliflower Florets, kosher salt, black pepper, Marketside® Traditional Rotisserie Chicken, tomato salad, red wine vinaigrette, asparagus\n",
      "                                               name  \\\n",
      "3802          Rotisserie Chicken Dinner: The Legacy   \n",
      "3801    Rotisserie Chicken Dinner: The Garden-Lover   \n",
      "3800  Rotisserie Chicken Dinner: Coop, There It Is!   \n",
      "\n",
      "                                            ingredients description  \n",
      "3802  Marketside® Cauliflower Florets, kosher salt, ...         NaN  \n",
      "3801  Marketside® Cauliflower Florets, kosher salt, ...         NaN  \n",
      "3800  Marketside® Butternut Squash, kosher salt, bla...         NaN  \n",
      "\n",
      "Testar med: oil, chicken, salt, pepper, onion, carrot, potato, water, peas, curry paste\n",
      "                       name  \\\n",
      "1115  Chinese Chicken Curry   \n",
      "3976    Simple Veggie Curry   \n",
      "3572     Poori & Aloo Sabzi   \n",
      "\n",
      "                                            ingredients description  \n",
      "1115  oil, chicken, salt, pepper, onion, carrot, pot...         NaN  \n",
      "3976  salt, potato, vegetable oil, medium onion, gar...         NaN  \n",
      "3572  whole wheat flour, oil, water, ghee, cumin see...         NaN  \n",
      "\n",
      "Testar med: kosher salt, medium shell pasta, olive oil, boneless, skinless chicken breasts, freshly ground black pepper, unsalted butter, yellow onion, garlic cloves, dry white wine, sun-dried tomatoes in olive oil, all-purpose flour, whole milk, dried oregano, tuscan kale, shredded mozzarella cheese, white cheddar cheese, grated parmesan cheese, fresh parsley\n",
      "                                      name  \\\n",
      "1545  Creamy Tuscan Chicken Mac And Cheese   \n",
      "107                         6-Hour Lasagna   \n",
      "943                Cheesy Stuffed Eggplant   \n",
      "\n",
      "                                            ingredients  \\\n",
      "1545  kosher salt, medium shell pasta, olive oil, bo...   \n",
      "107   olive oil, pancetta, medium yellow onion, medi...   \n",
      "943   large eggplants, olive oil, kosher salt, fresh...   \n",
      "\n",
      "                                            description  \n",
      "1545  This quick and easy one-pot recipe is sure to ...  \n",
      "107   You might ask yourself, “Is it really worth sp...  \n",
      "943                                                 NaN  \n"
     ]
    }
   ],
   "source": [
    "# Efter att du sparat modellerna\n",
    "# Validera med kända recept\n",
    "chicken_recipes = df[df['name'].str.contains('Chicken')].sample(3)\n",
    "for _, row in chicken_recipes.iterrows():\n",
    "    print(f\"\\nTestar med: {row['ingredients']}\")\n",
    "    print(get_recommendations(row['ingredients']).head(3))\n"
   ]
  },
  {
   "cell_type": "code",
   "execution_count": 16,
   "id": "2929647c-bdcf-4327-a537-9ce6b1884ce5",
   "metadata": {},
   "outputs": [
    {
     "name": "stdout",
     "output_type": "stream",
     "text": [
      "✅ Modeller sparade!\n"
     ]
    }
   ],
   "source": [
    "import pandas as pd\n",
    "from sklearn.feature_extraction.text import TfidfVectorizer\n",
    "import joblib\n",
    "import os\n",
    "\n",
    "# Läs in data\n",
    "df = pd.read_csv(\"recipes_with_ingredients_and_tags.csv\")\n",
    "\n",
    "# Förbearbeta text\n",
    "def preprocess(text):\n",
    "    return ' '.join(str(text).lower().replace(',', ' ').split()) if pd.notnull(text) else \"\"\n",
    "\n",
    "df['processed'] = df['ingredients'].apply(preprocess) + ' ' + df['tag_name'].apply(preprocess)\n",
    "\n",
    "# Träna och spara TF-IDF\n",
    "tfidf = TfidfVectorizer(stop_words='english', max_features=5000)\n",
    "tfidf_matrix = tfidf.fit_transform(df['processed'])\n",
    "\n",
    "os.makedirs(\"models\", exist_ok=True)\n",
    "joblib.dump(tfidf, \"models/tfidf_model.pkl\")\n",
    "joblib.dump(tfidf_matrix, \"models/tfidf_matrix.pkl\")\n",
    "\n",
    "print(\"✅ Modeller sparade!\")\n",
    "\n"
   ]
  },
  {
   "cell_type": "code",
   "execution_count": 9,
   "id": "c3ff807c-7045-4bad-a5ca-7f9ed4bf1633",
   "metadata": {},
   "outputs": [
    {
     "name": "stdout",
     "output_type": "stream",
     "text": [
      "Testvektor skapad utan fel!\n"
     ]
    }
   ],
   "source": [
    "# Testa att ladda modellen och göra en rekommendation\n",
    "loaded_tfidf = joblib.load('tfidf_model.pkl')\n",
    "test_input = \"kyckling, ris, soja\"\n",
    "processed_test_input = preprocess_text(test_input)\n",
    "test_vec = loaded_tfidf.transform([processed_test_input])\n",
    "print(\"Testvektor skapad utan fel!\")\n"
   ]
  },
  {
   "cell_type": "code",
   "execution_count": 14,
   "id": "79998307-4a7c-4323-99d9-708da80e8999",
   "metadata": {},
   "outputs": [
    {
     "name": "stdout",
     "output_type": "stream",
     "text": [
      "                                    name  \\\n",
      "2083               General Tso’s Chicken   \n",
      "2679                    Kung Pao Chicken   \n",
      "3240  One-Pot Chicken Teriyaki With Rice   \n",
      "3579     Pork Red Na (Noodles And Gravy)   \n",
      "1798                 Easy Orange Chicken   \n",
      "\n",
      "                                            ingredients  \n",
      "2083  vegetable oil, rice wine, soy sauce, boneless,...  \n",
      "2679  chicken breast, sesame oil, zucchini, red pepp...  \n",
      "3240  olive oil, chicken breasts, salt, pepper, garl...  \n",
      "3579  pork shoulder, rice noodle, dark soy sauce, ra...  \n",
      "1798  boneless, skinless chicken breasts, soy sauce,...  \n"
     ]
    }
   ],
   "source": [
    "# Testa rekommendationer efter att ha kört koden ovan\n",
    "test_result = get_recommendations(\"chicken, rice, soy sauce\")\n",
    "print(test_result[['name', 'ingredients']])\n"
   ]
  },
  {
   "cell_type": "code",
   "execution_count": null,
   "id": "b4d5cc29-603d-4925-afb8-5872d13a2ed6",
   "metadata": {},
   "outputs": [],
   "source": []
  }
 ],
 "metadata": {
  "kernelspec": {
   "display_name": "Python 3 (ipykernel)",
   "language": "python",
   "name": "python3"
  },
  "language_info": {
   "codemirror_mode": {
    "name": "ipython",
    "version": 3
   },
   "file_extension": ".py",
   "mimetype": "text/x-python",
   "name": "python",
   "nbconvert_exporter": "python",
   "pygments_lexer": "ipython3",
   "version": "3.11.9"
  }
 },
 "nbformat": 4,
 "nbformat_minor": 5
}
