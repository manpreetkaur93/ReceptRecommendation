{
 "cells": [
  {
   "cell_type": "code",
   "execution_count": 1,
   "id": "d2004948-3bdb-4ba8-a962-5129f4e63439",
   "metadata": {},
   "outputs": [],
   "source": [
    "import pandas as pd\n",
    "from sklearn.feature_extraction.text import TfidfVectorizer\n",
    "from sklearn.metrics.pairwise import cosine_similarity\n",
    "import joblib\n",
    "import os\n"
   ]
  },
  {
   "cell_type": "code",
   "execution_count": 2,
   "id": "a47612c3-c555-4866-bd2d-f88709237d64",
   "metadata": {},
   "outputs": [],
   "source": [
    "# Kontrollera att filen finns i samma mapp som din notebook\n",
    "import os\n",
    "assert os.path.exists(\"recipes_with_ingredients_and_tags.csv\"), \"CSV-filen saknas! Ladda upp den till projektmappen.\"\n"
   ]
  },
  {
   "cell_type": "code",
   "execution_count": 3,
   "id": "fdd19d9a-faad-40e3-b56e-93a5fdde768b",
   "metadata": {
    "scrolled": true
   },
   "outputs": [
    {
     "name": "stdout",
     "output_type": "stream",
     "text": [
      "Index(['name', 'Unnamed: 0', 'country', 'description', 'id_', 'keywords',\n",
      "       'is_shoppable', 'language', 'slug', 'video_url', 'is_licensed_video',\n",
      "       'is_community', 'thumbnail_url', 'inspired_by', 'linked_recipes',\n",
      "       'cook_time', 'prep_time', 'total_time', 'ratings_negative',\n",
      "       'ratings_positive', 'score', 'protein', 'fat', 'calories', 'sugar',\n",
      "       'carbohydrates', 'fiber', 'ingredients', 'tag_name'],\n",
      "      dtype='object')\n",
      "                                         name  Unnamed: 0 country  \\\n",
      "0  1-Day Noodles (Taiwanese Beef Noodle Soup)        1936      US   \n",
      "1                         1-Hour Banana Bread        3885      US   \n",
      "2               1-Hour Buffalo  Chicken Wings        1852      US   \n",
      "3             1-Hour Noodles (Zha Jiang Mian)        1736      US   \n",
      "4                            1-Minute Noodles        1536      US   \n",
      "\n",
      "                                         description   id_ keywords  \\\n",
      "0                                                NaN  5464      NaN   \n",
      "1                                                NaN  7261      NaN   \n",
      "2  Think of this as your classic go-to recipe the...  7069      NaN   \n",
      "3                                                NaN  5463      NaN   \n",
      "4  A quick and easy cold noodle dish for even the...  5462      NaN   \n",
      "\n",
      "   is_shoppable language                                      slug  \\\n",
      "0          True      eng  1-day-noodles-taiwanese-beef-noodle-soup   \n",
      "1          True      eng                       1-hour-banana-bread   \n",
      "2          True      eng              1-hour-buffalo-chicken-wings   \n",
      "3          True      eng             1-hour-noodles-zha-jiang-mian   \n",
      "4          True      eng                          1-minute-noodles   \n",
      "\n",
      "                                           video_url  ...  ratings_positive  \\\n",
      "0  https://vid.tasty.co/output/140619/hls24_15645...  ...                46   \n",
      "1                                                NaN  ...                 0   \n",
      "2  https://vid.tasty.co/output/190657/hls24_16106...  ...                67   \n",
      "3  https://vid.tasty.co/output/140619/landscape_4...  ...                92   \n",
      "4  https://vid.tasty.co/output/140619/landscape_4...  ...               181   \n",
      "\n",
      "   score protein   fat calories  sugar  carbohydrates  fiber  \\\n",
      "0   92.0     NaN   NaN      NaN    NaN            NaN    NaN   \n",
      "1    NaN     4.0  16.0    302.0   15.0           35.0    1.0   \n",
      "2   89.0     NaN   NaN      NaN    NaN            NaN    NaN   \n",
      "3   93.0    44.0  69.0   1440.0   10.0          161.0    8.0   \n",
      "4   91.0    12.0  38.0    675.0    4.0           71.0    3.0   \n",
      "\n",
      "                                         ingredients  \\\n",
      "0  bone-in chuck beef short ribs, beef shin bones...   \n",
      "1  unsalted butter, caster sugar, self-raising fl...   \n",
      "2  nonstick cooking spray, chicken wings, kosher ...   \n",
      "3  vegetable oil, garlic, fresh ginger, shallot, ...   \n",
      "4  chinese black vinegar, high grade sesame oil, ...   \n",
      "\n",
      "                                            tag_name  \n",
      "0  Dairy-Free, Taiwanese, Lunar New Year, Big Bat...  \n",
      "1             Oven, Easy, Desserts, Indulgent Sweets  \n",
      "2  Under 1 Hour, Game Day, Oven, Mixing Bowl, Bak...  \n",
      "3  Dairy-Free, High-Fiber, High-Protein, Chinese,...  \n",
      "4  Vegetarian, Vegan, Dairy-Free, Low-Sugar, Thai...  \n",
      "\n",
      "[5 rows x 29 columns]\n"
     ]
    }
   ],
   "source": [
    "#LÄser in data\n",
    "df = pd.read_csv(\"recipes_with_ingredients_and_tags.csv\")\n",
    "print(df.columns)\n",
    "print(df.head())\n"
   ]
  },
  {
   "cell_type": "code",
   "execution_count": 4,
   "id": "192d17b3-024e-4498-9a8e-c30ed78cf56e",
   "metadata": {},
   "outputs": [],
   "source": [
    "#Definiera förbearbetningsfunktion\n",
    "def preprocess_text(text):\n",
    "    if pd.isnull(text):\n",
    "        return \"\"\n",
    "    return ' '.join(str(text).lower().replace(',', ' ').split())\n"
   ]
  },
  {
   "cell_type": "code",
   "execution_count": 5,
   "id": "04898f8b-dfde-463a-8fcc-fffa5e5cd315",
   "metadata": {},
   "outputs": [],
   "source": [
    "#Skapa en ny kolumn som kombinerar ingredienser och taggar\n",
    "df['processed'] = df['ingredients'].apply(preprocess_text) + ' ' + df['tag_name'].apply(preprocess_text)\n"
   ]
  },
  {
   "cell_type": "code",
   "execution_count": 6,
   "id": "7dfda44b-5c7c-460c-907b-f3e997546764",
   "metadata": {},
   "outputs": [
    {
     "name": "stdout",
     "output_type": "stream",
     "text": [
      "✅ Modeller sparade!\n"
     ]
    }
   ],
   "source": [
    "#Träna och spara TF-IDF-modellen\n",
    "tfidf = TfidfVectorizer(stop_words='english', max_features=5000)\n",
    "tfidf_matrix = tfidf.fit_transform(df['processed'])\n",
    "\n",
    "os.makedirs(\"models\", exist_ok=True)\n",
    "joblib.dump(tfidf, \"models/tfidf_model.pkl\")\n",
    "joblib.dump(tfidf_matrix, \"models/tfidf_matrix.pkl\")\n",
    "\n",
    "print(\"✅ Modeller sparade!\")\n"
   ]
  },
  {
   "cell_type": "code",
   "execution_count": 7,
   "id": "fc93e5b2-b490-4abe-a97b-530b059e7ac0",
   "metadata": {},
   "outputs": [],
   "source": [
    "#Definiera rekommendationsfunktion\n",
    "def get_recommendations(user_input, top_n=5):\n",
    "    processed_input = preprocess_text(user_input)\n",
    "    input_vec = tfidf.transform([processed_input])\n",
    "    sim_scores = cosine_similarity(input_vec, tfidf_matrix).flatten()\n",
    "    top_indices = sim_scores.argsort()[-top_n:][::-1]\n",
    "    results = df.iloc[top_indices][['name', 'ingredients', 'description']].fillna(\"\")\n",
    "    return results\n"
   ]
  },
  {
   "cell_type": "code",
   "execution_count": 8,
   "id": "29e5fa39-4780-44ae-a030-cd67086a42e8",
   "metadata": {
    "scrolled": true
   },
   "outputs": [
    {
     "name": "stdout",
     "output_type": "stream",
     "text": [
      "\n",
      "Testar med: olive oil, chicken breasts, salt, pepper, garlic, flour, chicken broth, skim milk, salt, pepper, spinach, whole grain penne pasta, parmesan cheese\n",
      "                                       name  \\\n",
      "2302        Healthier Chicken Alfredo Pasta   \n",
      "911       Cheesy Chicken Alfredo Pasta Bake   \n",
      "3239  One-Pot Chicken Spinach Bacon Alfredo   \n",
      "\n",
      "                                            ingredients description  \n",
      "2302  olive oil, chicken breasts, salt, pepper, garl...              \n",
      "911   olive oil, chicken breasts, salt, pepper, garl...              \n",
      "3239  bacon, chicken breasts, spinach, garlic, salt,...              \n",
      "\n",
      "Testar med: 2 tablespoons neutral oil, such as canola or vegetable, 1 1/2 cups diced yellow onion, 1 cup diced carrot, 1 cup diced celery, 6 garlic cloves, grated, 1 1/2 medium chicken breasts, cooked and chopped, 5 cups chicken stock, 1 tablespoon kosher salt, 1 tablespoon garlic powder, 1 tablespoon onion powder, 1 tablespoon black pepper, 1 tablespoon dried thyme, 1 1/2 cups half-and-half, 1 pound gnocchi, 1 tablespoon cornstarch, 1 tablespoon water, 1 1/2 cup chopped fresh spinach or kale, Parmesan cheese, for garnish\n",
      "                                           name  \\\n",
      "1470  Copycat Olive Garden Chicken Gnocchi Soup   \n",
      "237                                  Aries Cake   \n",
      "4045         Slow-Cooker Tuscan White Bean Soup   \n",
      "\n",
      "                                            ingredients  \\\n",
      "1470  2 tablespoons neutral oil, such as canola or v...   \n",
      "237   nonstick cooking spray, large eggs, sour cream...   \n",
      "4045  medium white onion, carrots, celery, garlic, c...   \n",
      "\n",
      "                                            description  \n",
      "1470  Bring the memories of Olive Garden home with t...  \n",
      "237   Celebrate the fiery Aries in your life with a ...  \n",
      "4045                                                     \n",
      "\n",
      "Testar med: olive oil, chicken breasts, salt, pepper, garlic, ginger, water, white rice, soy sauce, rice vinegar, honey,  sriracha, cornstarch, broccoli, carrot, red bell pepper, scallion\n",
      "                                            name  \\\n",
      "3240          One-Pot Chicken Teriyaki With Rice   \n",
      "823                      Cashew Chicken Stir-Fry   \n",
      "3307  Orange Chicken (Inspired By Panda Express)   \n",
      "\n",
      "                                            ingredients description  \n",
      "3240  olive oil, chicken breasts, salt, pepper, garl...              \n",
      "823   soy sauce, hoisin sauce, rice vinegar, honey, ...              \n",
      "3307  egg, white pepper, salt, chicken breasts, corn...              \n"
     ]
    }
   ],
   "source": [
    "#Validera modellen med kända recept\n",
    "chicken_recipes = df[df['name'].str.contains('Chicken', case=False, na=False)].sample(3)\n",
    "for _, row in chicken_recipes.iterrows():\n",
    "    print(f\"\\nTestar med: {row['ingredients']}\")\n",
    "    print(get_recommendations(row['ingredients']).head(3))\n"
   ]
  },
  {
   "cell_type": "code",
   "execution_count": 9,
   "id": "93a7b55a-fe09-4d99-9fc6-0bccda5e23e7",
   "metadata": {},
   "outputs": [
    {
     "name": "stdout",
     "output_type": "stream",
     "text": [
      "Loaded IDF vector exists: True\n",
      "Test transform successful!\n"
     ]
    }
   ],
   "source": [
    "# Test loading vectorizer\n",
    "loaded_tfidf = joblib.load(\"models/tfidf_model.pkl\")\n",
    "print(\"Loaded IDF vector exists:\", hasattr(loaded_tfidf, \"idf_\"))\n",
    "test_text = \"chicken, rice, soy sauce\"\n",
    "test_vec = loaded_tfidf.transform([test_text])\n",
    "print(\"Test transform successful!\")\n"
   ]
  },
  {
   "cell_type": "code",
   "execution_count": null,
   "id": "aa322a79-6869-481a-9764-9f48fc16af5d",
   "metadata": {},
   "outputs": [],
   "source": []
  }
 ],
 "metadata": {
  "kernelspec": {
   "display_name": "Python 3 (ipykernel)",
   "language": "python",
   "name": "python3"
  },
  "language_info": {
   "codemirror_mode": {
    "name": "ipython",
    "version": 3
   },
   "file_extension": ".py",
   "mimetype": "text/x-python",
   "name": "python",
   "nbconvert_exporter": "python",
   "pygments_lexer": "ipython3",
   "version": "3.11.9"
  }
 },
 "nbformat": 4,
 "nbformat_minor": 5
}
